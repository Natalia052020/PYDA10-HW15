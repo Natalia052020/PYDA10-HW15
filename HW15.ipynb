{
 "cells": [
  {
   "cell_type": "code",
   "execution_count": 155,
   "metadata": {},
   "outputs": [],
   "source": [
    "from pylab import rcParams\n",
    "rcParams['figure.figsize'] = 10,7"
   ]
  },
  {
   "cell_type": "markdown",
   "metadata": {},
   "source": [
    "Вам необходимо провести базовый EDA выбранного набора данных.\n",
    "Требования к анализу:\n",
    "•\tпостроить не менее 4 визуализаций различных видов;\n",
    "•\tкаждая визуализация должным образом оформлена и читается даже в отрыве от контекста;\n",
    "•\tпо каждой визуализации необходимо написать вывод (какую гипотезу на ее основе можно выдвинуть?).\n"
   ]
  },
  {
   "cell_type": "code",
   "execution_count": 156,
   "metadata": {},
   "outputs": [],
   "source": [
    "import numpy as np\n",
    "import pandas as pd\n",
    "import matplotlib.pyplot as plt\n",
    "import seaborn as sns\n",
    "import os"
   ]
  },
  {
   "cell_type": "code",
   "execution_count": 157,
   "metadata": {},
   "outputs": [
    {
     "data": {
      "text/html": [
       "<div>\n",
       "<style scoped>\n",
       "    .dataframe tbody tr th:only-of-type {\n",
       "        vertical-align: middle;\n",
       "    }\n",
       "\n",
       "    .dataframe tbody tr th {\n",
       "        vertical-align: top;\n",
       "    }\n",
       "\n",
       "    .dataframe thead th {\n",
       "        text-align: right;\n",
       "    }\n",
       "</style>\n",
       "<table border=\"1\" class=\"dataframe\">\n",
       "  <thead>\n",
       "    <tr style=\"text-align: right;\">\n",
       "      <th></th>\n",
       "      <th>Country</th>\n",
       "      <th>Happiness.Rank</th>\n",
       "      <th>Happiness.Score</th>\n",
       "      <th>Whisker.high</th>\n",
       "      <th>Whisker.low</th>\n",
       "      <th>Economy..GDP.per.Capita.</th>\n",
       "      <th>Family</th>\n",
       "      <th>Health..Life.Expectancy.</th>\n",
       "      <th>Freedom</th>\n",
       "      <th>Generosity</th>\n",
       "      <th>Trust..Government.Corruption.</th>\n",
       "      <th>Dystopia.Residual</th>\n",
       "    </tr>\n",
       "  </thead>\n",
       "  <tbody>\n",
       "    <tr>\n",
       "      <th>0</th>\n",
       "      <td>Norway</td>\n",
       "      <td>1</td>\n",
       "      <td>7.537</td>\n",
       "      <td>7.594445</td>\n",
       "      <td>7.479556</td>\n",
       "      <td>1.616463</td>\n",
       "      <td>1.533524</td>\n",
       "      <td>0.796667</td>\n",
       "      <td>0.635423</td>\n",
       "      <td>0.362012</td>\n",
       "      <td>0.315964</td>\n",
       "      <td>2.277027</td>\n",
       "    </tr>\n",
       "    <tr>\n",
       "      <th>1</th>\n",
       "      <td>Denmark</td>\n",
       "      <td>2</td>\n",
       "      <td>7.522</td>\n",
       "      <td>7.581728</td>\n",
       "      <td>7.462272</td>\n",
       "      <td>1.482383</td>\n",
       "      <td>1.551122</td>\n",
       "      <td>0.792566</td>\n",
       "      <td>0.626007</td>\n",
       "      <td>0.355280</td>\n",
       "      <td>0.400770</td>\n",
       "      <td>2.313707</td>\n",
       "    </tr>\n",
       "    <tr>\n",
       "      <th>2</th>\n",
       "      <td>Iceland</td>\n",
       "      <td>3</td>\n",
       "      <td>7.504</td>\n",
       "      <td>7.622030</td>\n",
       "      <td>7.385970</td>\n",
       "      <td>1.480633</td>\n",
       "      <td>1.610574</td>\n",
       "      <td>0.833552</td>\n",
       "      <td>0.627163</td>\n",
       "      <td>0.475540</td>\n",
       "      <td>0.153527</td>\n",
       "      <td>2.322715</td>\n",
       "    </tr>\n",
       "    <tr>\n",
       "      <th>3</th>\n",
       "      <td>Switzerland</td>\n",
       "      <td>4</td>\n",
       "      <td>7.494</td>\n",
       "      <td>7.561772</td>\n",
       "      <td>7.426227</td>\n",
       "      <td>1.564980</td>\n",
       "      <td>1.516912</td>\n",
       "      <td>0.858131</td>\n",
       "      <td>0.620071</td>\n",
       "      <td>0.290549</td>\n",
       "      <td>0.367007</td>\n",
       "      <td>2.276716</td>\n",
       "    </tr>\n",
       "    <tr>\n",
       "      <th>4</th>\n",
       "      <td>Finland</td>\n",
       "      <td>5</td>\n",
       "      <td>7.469</td>\n",
       "      <td>7.527542</td>\n",
       "      <td>7.410458</td>\n",
       "      <td>1.443572</td>\n",
       "      <td>1.540247</td>\n",
       "      <td>0.809158</td>\n",
       "      <td>0.617951</td>\n",
       "      <td>0.245483</td>\n",
       "      <td>0.382612</td>\n",
       "      <td>2.430182</td>\n",
       "    </tr>\n",
       "  </tbody>\n",
       "</table>\n",
       "</div>"
      ],
      "text/plain": [
       "       Country  Happiness.Rank  Happiness.Score  Whisker.high  Whisker.low  \\\n",
       "0       Norway               1            7.537      7.594445     7.479556   \n",
       "1      Denmark               2            7.522      7.581728     7.462272   \n",
       "2      Iceland               3            7.504      7.622030     7.385970   \n",
       "3  Switzerland               4            7.494      7.561772     7.426227   \n",
       "4      Finland               5            7.469      7.527542     7.410458   \n",
       "\n",
       "   Economy..GDP.per.Capita.    Family  Health..Life.Expectancy.   Freedom  \\\n",
       "0                  1.616463  1.533524                  0.796667  0.635423   \n",
       "1                  1.482383  1.551122                  0.792566  0.626007   \n",
       "2                  1.480633  1.610574                  0.833552  0.627163   \n",
       "3                  1.564980  1.516912                  0.858131  0.620071   \n",
       "4                  1.443572  1.540247                  0.809158  0.617951   \n",
       "\n",
       "   Generosity  Trust..Government.Corruption.  Dystopia.Residual  \n",
       "0    0.362012                       0.315964           2.277027  \n",
       "1    0.355280                       0.400770           2.313707  \n",
       "2    0.475540                       0.153527           2.322715  \n",
       "3    0.290549                       0.367007           2.276716  \n",
       "4    0.245483                       0.382612           2.430182  "
      ]
     },
     "execution_count": 157,
     "metadata": {},
     "output_type": "execute_result"
    }
   ],
   "source": [
    "df = pd.read_csv('./archive/2017.csv')\n",
    "df.head()"
   ]
  },
  {
   "cell_type": "code",
   "execution_count": 158,
   "metadata": {},
   "outputs": [
    {
     "name": "stdout",
     "output_type": "stream",
     "text": [
      "<class 'pandas.core.frame.DataFrame'>\n",
      "RangeIndex: 155 entries, 0 to 154\n",
      "Data columns (total 12 columns):\n",
      " #   Column                         Non-Null Count  Dtype  \n",
      "---  ------                         --------------  -----  \n",
      " 0   Country                        155 non-null    object \n",
      " 1   Happiness.Rank                 155 non-null    int64  \n",
      " 2   Happiness.Score                155 non-null    float64\n",
      " 3   Whisker.high                   155 non-null    float64\n",
      " 4   Whisker.low                    155 non-null    float64\n",
      " 5   Economy..GDP.per.Capita.       155 non-null    float64\n",
      " 6   Family                         155 non-null    float64\n",
      " 7   Health..Life.Expectancy.       155 non-null    float64\n",
      " 8   Freedom                        155 non-null    float64\n",
      " 9   Generosity                     155 non-null    float64\n",
      " 10  Trust..Government.Corruption.  155 non-null    float64\n",
      " 11  Dystopia.Residual              155 non-null    float64\n",
      "dtypes: float64(10), int64(1), object(1)\n",
      "memory usage: 14.7+ KB\n"
     ]
    }
   ],
   "source": [
    "df.info()"
   ]
  },
  {
   "cell_type": "code",
   "execution_count": 159,
   "metadata": {},
   "outputs": [
    {
     "name": "stdout",
     "output_type": "stream",
     "text": [
      "Index(['Country', 'Happiness.Rank', 'Happiness.Score', 'Whisker.high',\n",
      "       'Whisker.low', 'Economy..GDP.per.Capita.', 'Family',\n",
      "       'Health..Life.Expectancy.', 'Freedom', 'Generosity',\n",
      "       'Trust..Government.Corruption.', 'Dystopia.Residual'],\n",
      "      dtype='object')\n"
     ]
    }
   ],
   "source": [
    "print(df.columns)"
   ]
  },
  {
   "cell_type": "code",
   "execution_count": 160,
   "metadata": {},
   "outputs": [
    {
     "data": {
      "text/html": [
       "<div>\n",
       "<style scoped>\n",
       "    .dataframe tbody tr th:only-of-type {\n",
       "        vertical-align: middle;\n",
       "    }\n",
       "\n",
       "    .dataframe tbody tr th {\n",
       "        vertical-align: top;\n",
       "    }\n",
       "\n",
       "    .dataframe thead th {\n",
       "        text-align: right;\n",
       "    }\n",
       "</style>\n",
       "<table border=\"1\" class=\"dataframe\">\n",
       "  <thead>\n",
       "    <tr style=\"text-align: right;\">\n",
       "      <th></th>\n",
       "      <th>Happiness.Rank</th>\n",
       "      <th>Happiness.Score</th>\n",
       "      <th>Whisker.high</th>\n",
       "      <th>Whisker.low</th>\n",
       "      <th>Economy..GDP.per.Capita.</th>\n",
       "      <th>Family</th>\n",
       "      <th>Health..Life.Expectancy.</th>\n",
       "      <th>Freedom</th>\n",
       "      <th>Generosity</th>\n",
       "      <th>Trust..Government.Corruption.</th>\n",
       "      <th>Dystopia.Residual</th>\n",
       "    </tr>\n",
       "  </thead>\n",
       "  <tbody>\n",
       "    <tr>\n",
       "      <th>count</th>\n",
       "      <td>155.000000</td>\n",
       "      <td>155.000000</td>\n",
       "      <td>155.000000</td>\n",
       "      <td>155.000000</td>\n",
       "      <td>155.000000</td>\n",
       "      <td>155.000000</td>\n",
       "      <td>155.000000</td>\n",
       "      <td>155.000000</td>\n",
       "      <td>155.000000</td>\n",
       "      <td>155.000000</td>\n",
       "      <td>155.000000</td>\n",
       "    </tr>\n",
       "    <tr>\n",
       "      <th>mean</th>\n",
       "      <td>78.000000</td>\n",
       "      <td>5.354019</td>\n",
       "      <td>5.452326</td>\n",
       "      <td>5.255713</td>\n",
       "      <td>0.984718</td>\n",
       "      <td>1.188898</td>\n",
       "      <td>0.551341</td>\n",
       "      <td>0.408786</td>\n",
       "      <td>0.246883</td>\n",
       "      <td>0.123120</td>\n",
       "      <td>1.850238</td>\n",
       "    </tr>\n",
       "    <tr>\n",
       "      <th>std</th>\n",
       "      <td>44.888751</td>\n",
       "      <td>1.131230</td>\n",
       "      <td>1.118542</td>\n",
       "      <td>1.145030</td>\n",
       "      <td>0.420793</td>\n",
       "      <td>0.287263</td>\n",
       "      <td>0.237073</td>\n",
       "      <td>0.149997</td>\n",
       "      <td>0.134780</td>\n",
       "      <td>0.101661</td>\n",
       "      <td>0.500028</td>\n",
       "    </tr>\n",
       "    <tr>\n",
       "      <th>min</th>\n",
       "      <td>1.000000</td>\n",
       "      <td>2.693000</td>\n",
       "      <td>2.864884</td>\n",
       "      <td>2.521116</td>\n",
       "      <td>0.000000</td>\n",
       "      <td>0.000000</td>\n",
       "      <td>0.000000</td>\n",
       "      <td>0.000000</td>\n",
       "      <td>0.000000</td>\n",
       "      <td>0.000000</td>\n",
       "      <td>0.377914</td>\n",
       "    </tr>\n",
       "    <tr>\n",
       "      <th>25%</th>\n",
       "      <td>39.500000</td>\n",
       "      <td>4.505500</td>\n",
       "      <td>4.608172</td>\n",
       "      <td>4.374955</td>\n",
       "      <td>0.663371</td>\n",
       "      <td>1.042635</td>\n",
       "      <td>0.369866</td>\n",
       "      <td>0.303677</td>\n",
       "      <td>0.154106</td>\n",
       "      <td>0.057271</td>\n",
       "      <td>1.591291</td>\n",
       "    </tr>\n",
       "    <tr>\n",
       "      <th>50%</th>\n",
       "      <td>78.000000</td>\n",
       "      <td>5.279000</td>\n",
       "      <td>5.370032</td>\n",
       "      <td>5.193152</td>\n",
       "      <td>1.064578</td>\n",
       "      <td>1.253918</td>\n",
       "      <td>0.606042</td>\n",
       "      <td>0.437454</td>\n",
       "      <td>0.231538</td>\n",
       "      <td>0.089848</td>\n",
       "      <td>1.832910</td>\n",
       "    </tr>\n",
       "    <tr>\n",
       "      <th>75%</th>\n",
       "      <td>116.500000</td>\n",
       "      <td>6.101500</td>\n",
       "      <td>6.194600</td>\n",
       "      <td>6.006527</td>\n",
       "      <td>1.318027</td>\n",
       "      <td>1.414316</td>\n",
       "      <td>0.723008</td>\n",
       "      <td>0.516561</td>\n",
       "      <td>0.323762</td>\n",
       "      <td>0.153296</td>\n",
       "      <td>2.144654</td>\n",
       "    </tr>\n",
       "    <tr>\n",
       "      <th>max</th>\n",
       "      <td>155.000000</td>\n",
       "      <td>7.537000</td>\n",
       "      <td>7.622030</td>\n",
       "      <td>7.479556</td>\n",
       "      <td>1.870766</td>\n",
       "      <td>1.610574</td>\n",
       "      <td>0.949492</td>\n",
       "      <td>0.658249</td>\n",
       "      <td>0.838075</td>\n",
       "      <td>0.464308</td>\n",
       "      <td>3.117485</td>\n",
       "    </tr>\n",
       "  </tbody>\n",
       "</table>\n",
       "</div>"
      ],
      "text/plain": [
       "       Happiness.Rank  Happiness.Score  Whisker.high  Whisker.low  \\\n",
       "count      155.000000       155.000000    155.000000   155.000000   \n",
       "mean        78.000000         5.354019      5.452326     5.255713   \n",
       "std         44.888751         1.131230      1.118542     1.145030   \n",
       "min          1.000000         2.693000      2.864884     2.521116   \n",
       "25%         39.500000         4.505500      4.608172     4.374955   \n",
       "50%         78.000000         5.279000      5.370032     5.193152   \n",
       "75%        116.500000         6.101500      6.194600     6.006527   \n",
       "max        155.000000         7.537000      7.622030     7.479556   \n",
       "\n",
       "       Economy..GDP.per.Capita.      Family  Health..Life.Expectancy.  \\\n",
       "count                155.000000  155.000000                155.000000   \n",
       "mean                   0.984718    1.188898                  0.551341   \n",
       "std                    0.420793    0.287263                  0.237073   \n",
       "min                    0.000000    0.000000                  0.000000   \n",
       "25%                    0.663371    1.042635                  0.369866   \n",
       "50%                    1.064578    1.253918                  0.606042   \n",
       "75%                    1.318027    1.414316                  0.723008   \n",
       "max                    1.870766    1.610574                  0.949492   \n",
       "\n",
       "          Freedom  Generosity  Trust..Government.Corruption.  \\\n",
       "count  155.000000  155.000000                     155.000000   \n",
       "mean     0.408786    0.246883                       0.123120   \n",
       "std      0.149997    0.134780                       0.101661   \n",
       "min      0.000000    0.000000                       0.000000   \n",
       "25%      0.303677    0.154106                       0.057271   \n",
       "50%      0.437454    0.231538                       0.089848   \n",
       "75%      0.516561    0.323762                       0.153296   \n",
       "max      0.658249    0.838075                       0.464308   \n",
       "\n",
       "       Dystopia.Residual  \n",
       "count         155.000000  \n",
       "mean            1.850238  \n",
       "std             0.500028  \n",
       "min             0.377914  \n",
       "25%             1.591291  \n",
       "50%             1.832910  \n",
       "75%             2.144654  \n",
       "max             3.117485  "
      ]
     },
     "execution_count": 160,
     "metadata": {},
     "output_type": "execute_result"
    }
   ],
   "source": [
    "df.describe()"
   ]
  },
  {
   "cell_type": "code",
   "execution_count": 161,
   "metadata": {},
   "outputs": [
    {
     "name": "stdout",
     "output_type": "stream",
     "text": [
      "Index(['Country', 'Hapiness_Rank', 'Hapiness_Score', 'Whisker_High',\n",
      "       'Whisker_Low', 'Economy_GDP_Per_Capita', 'Family',\n",
      "       'Health_Life_Expectency', 'Freedom', 'Generosity',\n",
      "       'Trust_Government_Corruption', 'Dystopia_Residual'],\n",
      "      dtype='object')\n"
     ]
    },
    {
     "data": {
      "text/html": [
       "<div>\n",
       "<style scoped>\n",
       "    .dataframe tbody tr th:only-of-type {\n",
       "        vertical-align: middle;\n",
       "    }\n",
       "\n",
       "    .dataframe tbody tr th {\n",
       "        vertical-align: top;\n",
       "    }\n",
       "\n",
       "    .dataframe thead th {\n",
       "        text-align: right;\n",
       "    }\n",
       "</style>\n",
       "<table border=\"1\" class=\"dataframe\">\n",
       "  <thead>\n",
       "    <tr style=\"text-align: right;\">\n",
       "      <th></th>\n",
       "      <th>Country</th>\n",
       "      <th>Hapiness_Rank</th>\n",
       "      <th>Hapiness_Score</th>\n",
       "      <th>Whisker_High</th>\n",
       "      <th>Whisker_Low</th>\n",
       "      <th>Economy_GDP_Per_Capita</th>\n",
       "      <th>Family</th>\n",
       "      <th>Health_Life_Expectency</th>\n",
       "      <th>Freedom</th>\n",
       "      <th>Generosity</th>\n",
       "      <th>Trust_Government_Corruption</th>\n",
       "      <th>Dystopia_Residual</th>\n",
       "    </tr>\n",
       "  </thead>\n",
       "  <tbody>\n",
       "    <tr>\n",
       "      <th>0</th>\n",
       "      <td>Norway</td>\n",
       "      <td>1</td>\n",
       "      <td>7.537</td>\n",
       "      <td>7.594445</td>\n",
       "      <td>7.479556</td>\n",
       "      <td>1.616463</td>\n",
       "      <td>1.533524</td>\n",
       "      <td>0.796667</td>\n",
       "      <td>0.635423</td>\n",
       "      <td>0.362012</td>\n",
       "      <td>0.315964</td>\n",
       "      <td>2.277027</td>\n",
       "    </tr>\n",
       "    <tr>\n",
       "      <th>1</th>\n",
       "      <td>Denmark</td>\n",
       "      <td>2</td>\n",
       "      <td>7.522</td>\n",
       "      <td>7.581728</td>\n",
       "      <td>7.462272</td>\n",
       "      <td>1.482383</td>\n",
       "      <td>1.551122</td>\n",
       "      <td>0.792566</td>\n",
       "      <td>0.626007</td>\n",
       "      <td>0.355280</td>\n",
       "      <td>0.400770</td>\n",
       "      <td>2.313707</td>\n",
       "    </tr>\n",
       "    <tr>\n",
       "      <th>2</th>\n",
       "      <td>Iceland</td>\n",
       "      <td>3</td>\n",
       "      <td>7.504</td>\n",
       "      <td>7.622030</td>\n",
       "      <td>7.385970</td>\n",
       "      <td>1.480633</td>\n",
       "      <td>1.610574</td>\n",
       "      <td>0.833552</td>\n",
       "      <td>0.627163</td>\n",
       "      <td>0.475540</td>\n",
       "      <td>0.153527</td>\n",
       "      <td>2.322715</td>\n",
       "    </tr>\n",
       "    <tr>\n",
       "      <th>3</th>\n",
       "      <td>Switzerland</td>\n",
       "      <td>4</td>\n",
       "      <td>7.494</td>\n",
       "      <td>7.561772</td>\n",
       "      <td>7.426227</td>\n",
       "      <td>1.564980</td>\n",
       "      <td>1.516912</td>\n",
       "      <td>0.858131</td>\n",
       "      <td>0.620071</td>\n",
       "      <td>0.290549</td>\n",
       "      <td>0.367007</td>\n",
       "      <td>2.276716</td>\n",
       "    </tr>\n",
       "    <tr>\n",
       "      <th>4</th>\n",
       "      <td>Finland</td>\n",
       "      <td>5</td>\n",
       "      <td>7.469</td>\n",
       "      <td>7.527542</td>\n",
       "      <td>7.410458</td>\n",
       "      <td>1.443572</td>\n",
       "      <td>1.540247</td>\n",
       "      <td>0.809158</td>\n",
       "      <td>0.617951</td>\n",
       "      <td>0.245483</td>\n",
       "      <td>0.382612</td>\n",
       "      <td>2.430182</td>\n",
       "    </tr>\n",
       "    <tr>\n",
       "      <th>5</th>\n",
       "      <td>Netherlands</td>\n",
       "      <td>6</td>\n",
       "      <td>7.377</td>\n",
       "      <td>7.427426</td>\n",
       "      <td>7.326574</td>\n",
       "      <td>1.503945</td>\n",
       "      <td>1.428939</td>\n",
       "      <td>0.810696</td>\n",
       "      <td>0.585384</td>\n",
       "      <td>0.470490</td>\n",
       "      <td>0.282662</td>\n",
       "      <td>2.294804</td>\n",
       "    </tr>\n",
       "    <tr>\n",
       "      <th>6</th>\n",
       "      <td>Canada</td>\n",
       "      <td>7</td>\n",
       "      <td>7.316</td>\n",
       "      <td>7.384403</td>\n",
       "      <td>7.247597</td>\n",
       "      <td>1.479204</td>\n",
       "      <td>1.481349</td>\n",
       "      <td>0.834558</td>\n",
       "      <td>0.611101</td>\n",
       "      <td>0.435540</td>\n",
       "      <td>0.287372</td>\n",
       "      <td>2.187264</td>\n",
       "    </tr>\n",
       "    <tr>\n",
       "      <th>7</th>\n",
       "      <td>New Zealand</td>\n",
       "      <td>8</td>\n",
       "      <td>7.314</td>\n",
       "      <td>7.379510</td>\n",
       "      <td>7.248490</td>\n",
       "      <td>1.405706</td>\n",
       "      <td>1.548195</td>\n",
       "      <td>0.816760</td>\n",
       "      <td>0.614062</td>\n",
       "      <td>0.500005</td>\n",
       "      <td>0.382817</td>\n",
       "      <td>2.046456</td>\n",
       "    </tr>\n",
       "    <tr>\n",
       "      <th>8</th>\n",
       "      <td>Sweden</td>\n",
       "      <td>9</td>\n",
       "      <td>7.284</td>\n",
       "      <td>7.344095</td>\n",
       "      <td>7.223905</td>\n",
       "      <td>1.494387</td>\n",
       "      <td>1.478162</td>\n",
       "      <td>0.830875</td>\n",
       "      <td>0.612924</td>\n",
       "      <td>0.385399</td>\n",
       "      <td>0.384399</td>\n",
       "      <td>2.097538</td>\n",
       "    </tr>\n",
       "    <tr>\n",
       "      <th>9</th>\n",
       "      <td>Australia</td>\n",
       "      <td>10</td>\n",
       "      <td>7.284</td>\n",
       "      <td>7.356651</td>\n",
       "      <td>7.211349</td>\n",
       "      <td>1.484415</td>\n",
       "      <td>1.510042</td>\n",
       "      <td>0.843887</td>\n",
       "      <td>0.601607</td>\n",
       "      <td>0.477699</td>\n",
       "      <td>0.301184</td>\n",
       "      <td>2.065211</td>\n",
       "    </tr>\n",
       "  </tbody>\n",
       "</table>\n",
       "</div>"
      ],
      "text/plain": [
       "       Country  Hapiness_Rank  Hapiness_Score  Whisker_High  Whisker_Low  \\\n",
       "0       Norway              1           7.537      7.594445     7.479556   \n",
       "1      Denmark              2           7.522      7.581728     7.462272   \n",
       "2      Iceland              3           7.504      7.622030     7.385970   \n",
       "3  Switzerland              4           7.494      7.561772     7.426227   \n",
       "4      Finland              5           7.469      7.527542     7.410458   \n",
       "5  Netherlands              6           7.377      7.427426     7.326574   \n",
       "6       Canada              7           7.316      7.384403     7.247597   \n",
       "7  New Zealand              8           7.314      7.379510     7.248490   \n",
       "8       Sweden              9           7.284      7.344095     7.223905   \n",
       "9    Australia             10           7.284      7.356651     7.211349   \n",
       "\n",
       "   Economy_GDP_Per_Capita    Family  Health_Life_Expectency   Freedom  \\\n",
       "0                1.616463  1.533524                0.796667  0.635423   \n",
       "1                1.482383  1.551122                0.792566  0.626007   \n",
       "2                1.480633  1.610574                0.833552  0.627163   \n",
       "3                1.564980  1.516912                0.858131  0.620071   \n",
       "4                1.443572  1.540247                0.809158  0.617951   \n",
       "5                1.503945  1.428939                0.810696  0.585384   \n",
       "6                1.479204  1.481349                0.834558  0.611101   \n",
       "7                1.405706  1.548195                0.816760  0.614062   \n",
       "8                1.494387  1.478162                0.830875  0.612924   \n",
       "9                1.484415  1.510042                0.843887  0.601607   \n",
       "\n",
       "   Generosity  Trust_Government_Corruption  Dystopia_Residual  \n",
       "0    0.362012                     0.315964           2.277027  \n",
       "1    0.355280                     0.400770           2.313707  \n",
       "2    0.475540                     0.153527           2.322715  \n",
       "3    0.290549                     0.367007           2.276716  \n",
       "4    0.245483                     0.382612           2.430182  \n",
       "5    0.470490                     0.282662           2.294804  \n",
       "6    0.435540                     0.287372           2.187264  \n",
       "7    0.500005                     0.382817           2.046456  \n",
       "8    0.385399                     0.384399           2.097538  \n",
       "9    0.477699                     0.301184           2.065211  "
      ]
     },
     "execution_count": 161,
     "metadata": {},
     "output_type": "execute_result"
    }
   ],
   "source": [
    "df.rename(columns={\n",
    "    'Happiness.Rank': 'Hapiness_Rank',\n",
    "    'Happiness.Score': 'Hapiness_Score',\n",
    "    'Whisker.high' : 'Whisker_High',\n",
    "    'Whisker.low': 'Whisker_Low',\n",
    "    'Economy..GDP.per.Capita.': 'Economy_GDP_Per_Capita',\n",
    "    'Health..Life.Expectancy.':'Health_Life_Expectency',\n",
    "    'Trust..Government.Corruption.':'Trust_Government_Corruption',\n",
    "    'Dystopia.Residual':'Dystopia_Residual'    \n",
    "},inplace = True)\n",
    "print(df.columns)\n",
    "df.head(10)"
   ]
  },
  {
   "cell_type": "code",
   "execution_count": 165,
   "metadata": {},
   "outputs": [
    {
     "data": {
      "text/html": [
       "<div>\n",
       "<style scoped>\n",
       "    .dataframe tbody tr th:only-of-type {\n",
       "        vertical-align: middle;\n",
       "    }\n",
       "\n",
       "    .dataframe tbody tr th {\n",
       "        vertical-align: top;\n",
       "    }\n",
       "\n",
       "    .dataframe thead th {\n",
       "        text-align: right;\n",
       "    }\n",
       "</style>\n",
       "<table border=\"1\" class=\"dataframe\">\n",
       "  <thead>\n",
       "    <tr style=\"text-align: right;\">\n",
       "      <th></th>\n",
       "      <th>Country</th>\n",
       "      <th>Hapiness_Rank</th>\n",
       "      <th>Hapiness_Score</th>\n",
       "      <th>Whisker_High</th>\n",
       "      <th>Whisker_Low</th>\n",
       "      <th>Economy_GDP_Per_Capita</th>\n",
       "      <th>Family</th>\n",
       "      <th>Health_Life_Expectency</th>\n",
       "      <th>Freedom</th>\n",
       "      <th>Generosity</th>\n",
       "      <th>Trust_Government_Corruption</th>\n",
       "      <th>Dystopia_Residual</th>\n",
       "    </tr>\n",
       "  </thead>\n",
       "  <tbody>\n",
       "    <tr>\n",
       "      <th>154</th>\n",
       "      <td>Central African Republic</td>\n",
       "      <td>155</td>\n",
       "      <td>2.693</td>\n",
       "      <td>2.864884</td>\n",
       "      <td>2.521116</td>\n",
       "      <td>0.000000</td>\n",
       "      <td>0.000000</td>\n",
       "      <td>0.018773</td>\n",
       "      <td>0.270842</td>\n",
       "      <td>0.280876</td>\n",
       "      <td>0.056565</td>\n",
       "      <td>2.066005</td>\n",
       "    </tr>\n",
       "    <tr>\n",
       "      <th>153</th>\n",
       "      <td>Burundi</td>\n",
       "      <td>154</td>\n",
       "      <td>2.905</td>\n",
       "      <td>3.074690</td>\n",
       "      <td>2.735310</td>\n",
       "      <td>0.091623</td>\n",
       "      <td>0.629794</td>\n",
       "      <td>0.151611</td>\n",
       "      <td>0.059901</td>\n",
       "      <td>0.204435</td>\n",
       "      <td>0.084148</td>\n",
       "      <td>1.683024</td>\n",
       "    </tr>\n",
       "    <tr>\n",
       "      <th>152</th>\n",
       "      <td>Tanzania</td>\n",
       "      <td>153</td>\n",
       "      <td>3.349</td>\n",
       "      <td>3.461430</td>\n",
       "      <td>3.236570</td>\n",
       "      <td>0.511136</td>\n",
       "      <td>1.041990</td>\n",
       "      <td>0.364509</td>\n",
       "      <td>0.390018</td>\n",
       "      <td>0.354256</td>\n",
       "      <td>0.066035</td>\n",
       "      <td>0.621130</td>\n",
       "    </tr>\n",
       "    <tr>\n",
       "      <th>151</th>\n",
       "      <td>Syria</td>\n",
       "      <td>152</td>\n",
       "      <td>3.462</td>\n",
       "      <td>3.663669</td>\n",
       "      <td>3.260331</td>\n",
       "      <td>0.777153</td>\n",
       "      <td>0.396103</td>\n",
       "      <td>0.500533</td>\n",
       "      <td>0.081539</td>\n",
       "      <td>0.493664</td>\n",
       "      <td>0.151347</td>\n",
       "      <td>1.061574</td>\n",
       "    </tr>\n",
       "    <tr>\n",
       "      <th>150</th>\n",
       "      <td>Rwanda</td>\n",
       "      <td>151</td>\n",
       "      <td>3.471</td>\n",
       "      <td>3.543030</td>\n",
       "      <td>3.398970</td>\n",
       "      <td>0.368746</td>\n",
       "      <td>0.945707</td>\n",
       "      <td>0.326425</td>\n",
       "      <td>0.581844</td>\n",
       "      <td>0.252756</td>\n",
       "      <td>0.455220</td>\n",
       "      <td>0.540061</td>\n",
       "    </tr>\n",
       "    <tr>\n",
       "      <th>...</th>\n",
       "      <td>...</td>\n",
       "      <td>...</td>\n",
       "      <td>...</td>\n",
       "      <td>...</td>\n",
       "      <td>...</td>\n",
       "      <td>...</td>\n",
       "      <td>...</td>\n",
       "      <td>...</td>\n",
       "      <td>...</td>\n",
       "      <td>...</td>\n",
       "      <td>...</td>\n",
       "      <td>...</td>\n",
       "    </tr>\n",
       "    <tr>\n",
       "      <th>4</th>\n",
       "      <td>Finland</td>\n",
       "      <td>5</td>\n",
       "      <td>7.469</td>\n",
       "      <td>7.527542</td>\n",
       "      <td>7.410458</td>\n",
       "      <td>1.443572</td>\n",
       "      <td>1.540247</td>\n",
       "      <td>0.809158</td>\n",
       "      <td>0.617951</td>\n",
       "      <td>0.245483</td>\n",
       "      <td>0.382612</td>\n",
       "      <td>2.430182</td>\n",
       "    </tr>\n",
       "    <tr>\n",
       "      <th>3</th>\n",
       "      <td>Switzerland</td>\n",
       "      <td>4</td>\n",
       "      <td>7.494</td>\n",
       "      <td>7.561772</td>\n",
       "      <td>7.426227</td>\n",
       "      <td>1.564980</td>\n",
       "      <td>1.516912</td>\n",
       "      <td>0.858131</td>\n",
       "      <td>0.620071</td>\n",
       "      <td>0.290549</td>\n",
       "      <td>0.367007</td>\n",
       "      <td>2.276716</td>\n",
       "    </tr>\n",
       "    <tr>\n",
       "      <th>2</th>\n",
       "      <td>Iceland</td>\n",
       "      <td>3</td>\n",
       "      <td>7.504</td>\n",
       "      <td>7.622030</td>\n",
       "      <td>7.385970</td>\n",
       "      <td>1.480633</td>\n",
       "      <td>1.610574</td>\n",
       "      <td>0.833552</td>\n",
       "      <td>0.627163</td>\n",
       "      <td>0.475540</td>\n",
       "      <td>0.153527</td>\n",
       "      <td>2.322715</td>\n",
       "    </tr>\n",
       "    <tr>\n",
       "      <th>1</th>\n",
       "      <td>Denmark</td>\n",
       "      <td>2</td>\n",
       "      <td>7.522</td>\n",
       "      <td>7.581728</td>\n",
       "      <td>7.462272</td>\n",
       "      <td>1.482383</td>\n",
       "      <td>1.551122</td>\n",
       "      <td>0.792566</td>\n",
       "      <td>0.626007</td>\n",
       "      <td>0.355280</td>\n",
       "      <td>0.400770</td>\n",
       "      <td>2.313707</td>\n",
       "    </tr>\n",
       "    <tr>\n",
       "      <th>0</th>\n",
       "      <td>Norway</td>\n",
       "      <td>1</td>\n",
       "      <td>7.537</td>\n",
       "      <td>7.594445</td>\n",
       "      <td>7.479556</td>\n",
       "      <td>1.616463</td>\n",
       "      <td>1.533524</td>\n",
       "      <td>0.796667</td>\n",
       "      <td>0.635423</td>\n",
       "      <td>0.362012</td>\n",
       "      <td>0.315964</td>\n",
       "      <td>2.277027</td>\n",
       "    </tr>\n",
       "  </tbody>\n",
       "</table>\n",
       "<p>155 rows × 12 columns</p>\n",
       "</div>"
      ],
      "text/plain": [
       "                      Country  Hapiness_Rank  Hapiness_Score  Whisker_High  \\\n",
       "154  Central African Republic            155           2.693      2.864884   \n",
       "153                   Burundi            154           2.905      3.074690   \n",
       "152                  Tanzania            153           3.349      3.461430   \n",
       "151                     Syria            152           3.462      3.663669   \n",
       "150                    Rwanda            151           3.471      3.543030   \n",
       "..                        ...            ...             ...           ...   \n",
       "4                     Finland              5           7.469      7.527542   \n",
       "3                 Switzerland              4           7.494      7.561772   \n",
       "2                     Iceland              3           7.504      7.622030   \n",
       "1                     Denmark              2           7.522      7.581728   \n",
       "0                      Norway              1           7.537      7.594445   \n",
       "\n",
       "     Whisker_Low  Economy_GDP_Per_Capita    Family  Health_Life_Expectency  \\\n",
       "154     2.521116                0.000000  0.000000                0.018773   \n",
       "153     2.735310                0.091623  0.629794                0.151611   \n",
       "152     3.236570                0.511136  1.041990                0.364509   \n",
       "151     3.260331                0.777153  0.396103                0.500533   \n",
       "150     3.398970                0.368746  0.945707                0.326425   \n",
       "..           ...                     ...       ...                     ...   \n",
       "4       7.410458                1.443572  1.540247                0.809158   \n",
       "3       7.426227                1.564980  1.516912                0.858131   \n",
       "2       7.385970                1.480633  1.610574                0.833552   \n",
       "1       7.462272                1.482383  1.551122                0.792566   \n",
       "0       7.479556                1.616463  1.533524                0.796667   \n",
       "\n",
       "      Freedom  Generosity  Trust_Government_Corruption  Dystopia_Residual  \n",
       "154  0.270842    0.280876                     0.056565           2.066005  \n",
       "153  0.059901    0.204435                     0.084148           1.683024  \n",
       "152  0.390018    0.354256                     0.066035           0.621130  \n",
       "151  0.081539    0.493664                     0.151347           1.061574  \n",
       "150  0.581844    0.252756                     0.455220           0.540061  \n",
       "..        ...         ...                          ...                ...  \n",
       "4    0.617951    0.245483                     0.382612           2.430182  \n",
       "3    0.620071    0.290549                     0.367007           2.276716  \n",
       "2    0.627163    0.475540                     0.153527           2.322715  \n",
       "1    0.626007    0.355280                     0.400770           2.313707  \n",
       "0    0.635423    0.362012                     0.315964           2.277027  \n",
       "\n",
       "[155 rows x 12 columns]"
      ]
     },
     "execution_count": 165,
     "metadata": {},
     "output_type": "execute_result"
    }
   ],
   "source": [
    "df_country = df.sort_values(by = ['Hapiness_Score'])\n",
    "df_country"
   ]
  },
  {
   "cell_type": "code",
   "execution_count": 167,
   "metadata": {},
   "outputs": [
    {
     "data": {
      "text/html": [
       "<div>\n",
       "<style scoped>\n",
       "    .dataframe tbody tr th:only-of-type {\n",
       "        vertical-align: middle;\n",
       "    }\n",
       "\n",
       "    .dataframe tbody tr th {\n",
       "        vertical-align: top;\n",
       "    }\n",
       "\n",
       "    .dataframe thead th {\n",
       "        text-align: right;\n",
       "    }\n",
       "</style>\n",
       "<table border=\"1\" class=\"dataframe\">\n",
       "  <thead>\n",
       "    <tr style=\"text-align: right;\">\n",
       "      <th></th>\n",
       "      <th>Country</th>\n",
       "      <th>Hapiness_Rank</th>\n",
       "      <th>Hapiness_Score</th>\n",
       "    </tr>\n",
       "  </thead>\n",
       "  <tbody>\n",
       "    <tr>\n",
       "      <th>0</th>\n",
       "      <td>Norway</td>\n",
       "      <td>1</td>\n",
       "      <td>7.537</td>\n",
       "    </tr>\n",
       "    <tr>\n",
       "      <th>1</th>\n",
       "      <td>Denmark</td>\n",
       "      <td>2</td>\n",
       "      <td>7.522</td>\n",
       "    </tr>\n",
       "    <tr>\n",
       "      <th>2</th>\n",
       "      <td>Iceland</td>\n",
       "      <td>3</td>\n",
       "      <td>7.504</td>\n",
       "    </tr>\n",
       "    <tr>\n",
       "      <th>3</th>\n",
       "      <td>Switzerland</td>\n",
       "      <td>4</td>\n",
       "      <td>7.494</td>\n",
       "    </tr>\n",
       "    <tr>\n",
       "      <th>4</th>\n",
       "      <td>Finland</td>\n",
       "      <td>5</td>\n",
       "      <td>7.469</td>\n",
       "    </tr>\n",
       "  </tbody>\n",
       "</table>\n",
       "</div>"
      ],
      "text/plain": [
       "       Country  Hapiness_Rank  Hapiness_Score\n",
       "0       Norway              1           7.537\n",
       "1      Denmark              2           7.522\n",
       "2      Iceland              3           7.504\n",
       "3  Switzerland              4           7.494\n",
       "4      Finland              5           7.469"
      ]
     },
     "execution_count": 167,
     "metadata": {},
     "output_type": "execute_result"
    }
   ],
   "source": [
    "#Топ 10 стран с высокой оценкой уровня счастья\n",
    "df_top = df[['Country','Hapiness_Rank','Hapiness_Score']][:10]\n",
    "df_top.head()"
   ]
  },
  {
   "cell_type": "code",
   "execution_count": 168,
   "metadata": {},
   "outputs": [
    {
     "data": {
      "image/png": "[encoded data removed]",
      "text/plain": [
       "<Figure size 2160x864 with 1 Axes>"
      ]
     },
     "metadata": {
      "needs_background": "light"
     },
     "output_type": "display_data"
    }
   ],
   "source": [
    "y_pos = np.arange(len(df_top))\n",
    "plt.figure(figsize=(30,12))\n",
    "plt.bar(y_pos, df_top['Hapiness_Score'])\n",
    "plt.xticks(y_pos, df_top['Country'])\n",
    "plt.xlabel('Country')\n",
    "plt.ylabel('Hapiness_Score')\n",
    "plt.title('Top 10 most hapiness country')\n",
    "plt.show()"
   ]
  },
  {
   "cell_type": "code",
   "execution_count": 169,
   "metadata": {},
   "outputs": [
    {
     "data": {
      "image/png": "[encoded data removed]",
      "text/plain": [
       "<Figure size 720x504 with 1 Axes>"
      ]
     },
     "metadata": {
      "needs_background": "light"
     },
     "output_type": "display_data"
    }
   ],
   "source": [
    "plt.barh(df_top['Country'], df_top['Hapiness_Score'])\n",
    "plt.title('Top 10 most non hapiness country')\n",
    "plt.xlabel('Hapiness_Score')\n",
    "plt.ylabel('Country')\n",
    "plt.show()"
   ]
  },
  {
   "cell_type": "code",
   "execution_count": 170,
   "metadata": {},
   "outputs": [
    {
     "data": {
      "text/html": [
       "<div>\n",
       "<style scoped>\n",
       "    .dataframe tbody tr th:only-of-type {\n",
       "        vertical-align: middle;\n",
       "    }\n",
       "\n",
       "    .dataframe tbody tr th {\n",
       "        vertical-align: top;\n",
       "    }\n",
       "\n",
       "    .dataframe thead th {\n",
       "        text-align: right;\n",
       "    }\n",
       "</style>\n",
       "<table border=\"1\" class=\"dataframe\">\n",
       "  <thead>\n",
       "    <tr style=\"text-align: right;\">\n",
       "      <th></th>\n",
       "      <th>Country</th>\n",
       "      <th>Hapiness_Rank</th>\n",
       "      <th>Hapiness_Score</th>\n",
       "    </tr>\n",
       "  </thead>\n",
       "  <tbody>\n",
       "    <tr>\n",
       "      <th>145</th>\n",
       "      <td>Yemen</td>\n",
       "      <td>146</td>\n",
       "      <td>3.593</td>\n",
       "    </tr>\n",
       "    <tr>\n",
       "      <th>146</th>\n",
       "      <td>South Sudan</td>\n",
       "      <td>147</td>\n",
       "      <td>3.591</td>\n",
       "    </tr>\n",
       "    <tr>\n",
       "      <th>147</th>\n",
       "      <td>Liberia</td>\n",
       "      <td>148</td>\n",
       "      <td>3.533</td>\n",
       "    </tr>\n",
       "    <tr>\n",
       "      <th>148</th>\n",
       "      <td>Guinea</td>\n",
       "      <td>149</td>\n",
       "      <td>3.507</td>\n",
       "    </tr>\n",
       "    <tr>\n",
       "      <th>149</th>\n",
       "      <td>Togo</td>\n",
       "      <td>150</td>\n",
       "      <td>3.495</td>\n",
       "    </tr>\n",
       "  </tbody>\n",
       "</table>\n",
       "</div>"
      ],
      "text/plain": [
       "         Country  Hapiness_Rank  Hapiness_Score\n",
       "145        Yemen            146           3.593\n",
       "146  South Sudan            147           3.591\n",
       "147      Liberia            148           3.533\n",
       "148       Guinea            149           3.507\n",
       "149         Togo            150           3.495"
      ]
     },
     "execution_count": 170,
     "metadata": {},
     "output_type": "execute_result"
    }
   ],
   "source": [
    "#Топ 10 стран с низкой оценкой уровня счастья\n",
    "df_bottom = df[['Country','Hapiness_Rank', 'Hapiness_Score']][145:]\n",
    "df_bottom.head()"
   ]
  },
  {
   "cell_type": "code",
   "execution_count": 171,
   "metadata": {},
   "outputs": [
    {
     "data": {
      "image/png": "[encoded data removed]",
      "text/plain": [
       "<Figure size 2160x864 with 1 Axes>"
      ]
     },
     "metadata": {
      "needs_background": "light"
     },
     "output_type": "display_data"
    }
   ],
   "source": [
    "y_pos = np.arange(len(df_bottom))\n",
    "plt.figure(figsize=(30,12))\n",
    "plt.bar(y_pos, df_bottom['Hapiness_Score'])\n",
    "plt.xticks(y_pos, df_bottom['Country'])\n",
    "plt.xlabel('Country')\n",
    "plt.ylabel('Hapiness_Score')\n",
    "plt.title('Top 10 most non hapiness country')\n",
    "plt.show()"
   ]
  },
  {
   "cell_type": "code",
   "execution_count": 172,
   "metadata": {},
   "outputs": [
    {
     "data": {
      "image/png": "[encoded data removed]",
      "text/plain": [
       "<Figure size 720x504 with 1 Axes>"
      ]
     },
     "metadata": {
      "needs_background": "light"
     },
     "output_type": "display_data"
    }
   ],
   "source": [
    "plt.barh(df_bottom['Country'], df_bottom['Hapiness_Score'])\n",
    "plt.title('Top 10 most non hapiness country')\n",
    "plt.xlabel('Hapiness_Score')\n",
    "plt.ylabel('Country')\n",
    "plt.show()"
   ]
  },
  {
   "cell_type": "code",
   "execution_count": 173,
   "metadata": {},
   "outputs": [
    {
     "data": {
      "text/plain": [
       "count    155.000000\n",
       "mean       5.354019\n",
       "std        1.131230\n",
       "min        2.693000\n",
       "25%        4.505500\n",
       "50%        5.279000\n",
       "75%        6.101500\n",
       "max        7.537000\n",
       "Name: Hapiness_Score, dtype: float64"
      ]
     },
     "execution_count": 173,
     "metadata": {},
     "output_type": "execute_result"
    }
   ],
   "source": [
    "df_summary = df['Hapiness_Score'].describe()\n",
    "df_summary"
   ]
  },
  {
   "cell_type": "code",
   "execution_count": 174,
   "metadata": {},
   "outputs": [
    {
     "data": {
      "image/png": "[encoded data removed]",
      "text/plain": [
       "<Figure size 1440x864 with 1 Axes>"
      ]
     },
     "metadata": {
      "needs_background": "light"
     },
     "output_type": "display_data"
    }
   ],
   "source": [
    "plt.figure(figsize=(20,12))\n",
    "pd.DataFrame.boxplot(df['Hapiness_Score'])\n",
    "plt.ylabel('Hapiness_Score')\n",
    "plt.title('Box plot of Happiness Score')\n",
    "plt.show()"
   ]
  },
  {
   "cell_type": "code",
   "execution_count": 175,
   "metadata": {},
   "outputs": [
    {
     "data": {
      "text/plain": [
       "Text(0.5, 1.0, 'Distribution of Hapiness Score')"
      ]
     },
     "execution_count": 175,
     "metadata": {},
     "output_type": "execute_result"
    },
    {
     "data": {
      "image/png": "[encoded data removed]",
      "text/plain": [
       "<Figure size 720x504 with 1 Axes>"
      ]
     },
     "metadata": {
      "needs_background": "light"
     },
     "output_type": "display_data"
    }
   ],
   "source": [
    "sns.distplot(df['Hapiness_Score'])\n",
    "plt.title('Distribution of Hapiness Score')"
   ]
  },
  {
   "cell_type": "code",
   "execution_count": 176,
   "metadata": {},
   "outputs": [
    {
     "data": {
      "text/plain": [
       "<seaborn.axisgrid.JointGrid at 0x1ac20c88>"
      ]
     },
     "execution_count": 176,
     "metadata": {},
     "output_type": "execute_result"
    },
    {
     "data": {
      "image/png": "[encoded data removed]",
      "text/plain": [
       "<Figure size 432x432 with 3 Axes>"
      ]
     },
     "metadata": {
      "needs_background": "light"
     },
     "output_type": "display_data"
    }
   ],
   "source": [
    "sns.jointplot(x='Hapiness_Rank', y='Hapiness_Score', \n",
    "              data=df, kind='scatter')"
   ]
  },
  {
   "cell_type": "code",
   "execution_count": 178,
   "metadata": {},
   "outputs": [
    {
     "data": {
      "text/plain": [
       "Text(0.5, 1.0, 'hapiness vs life expectency')"
      ]
     },
     "execution_count": 178,
     "metadata": {},
     "output_type": "execute_result"
    },
    {
     "data": {
      "image/png": "[encoded data removed]",
      "text/plain": [
       "<Figure size 720x360 with 1 Axes>"
      ]
     },
     "metadata": {
      "needs_background": "light"
     },
     "output_type": "display_data"
    }
   ],
   "source": [
    "plt.figure(figsize=(10,5))\n",
    "plt.scatter(data_2017.Health_Life_Expectency,data_2017.Hapiness_Score,color = 'purple')\n",
    "plt.xlabel(' Freedom')\n",
    "plt.ylabel('Happiness')\n",
    "plt.title('hapiness vs life expectency')"
   ]
  },
  {
   "cell_type": "markdown",
   "metadata": {},
   "source": [
    "Население с высокой продолжительностью жизни дает высокую оценку удовлетворенностью жизни"
   ]
  },
  {
   "cell_type": "code",
   "execution_count": 93,
   "metadata": {},
   "outputs": [
    {
     "data": {
      "text/plain": [
       "Text(0.5, 1.0, 'hapiness vs Freedom')"
      ]
     },
     "execution_count": 93,
     "metadata": {},
     "output_type": "execute_result"
    },
    {
     "data": {
      "image/png": "[encoded data removed]",
      "text/plain": [
       "<Figure size 720x360 with 1 Axes>"
      ]
     },
     "metadata": {
      "needs_background": "light"
     },
     "output_type": "display_data"
    }
   ],
   "source": [
    "plt.figure(figsize=(10,5))\n",
    "plt.scatter(data_2017.Health_Life_Expectency,data_2017.Hapiness_Score,color = 'purple')\n",
    "plt.xlabel(' Freedom')\n",
    "plt.ylabel('Happiness')\n",
    "plt.title('hapiness vs Freedom')"
   ]
  },
  {
   "cell_type": "markdown",
   "metadata": {},
   "source": [
    "Население, которое дает высокую оценку свободе принятия решений, касающися их жизни, сообщают о более высокой удовлетворенностью жизни \n"
   ]
  },
  {
   "cell_type": "code",
   "execution_count": 179,
   "metadata": {},
   "outputs": [
    {
     "data": {
      "text/plain": [
       "Text(0.5, 1.0, 'hapiness vs Economy..GDP.per.Capita.')"
      ]
     },
     "execution_count": 179,
     "metadata": {},
     "output_type": "execute_result"
    },
    {
     "data": {
      "image/png": "[encoded data removed]",
      "text/plain": [
       "<Figure size 720x360 with 1 Axes>"
      ]
     },
     "metadata": {
      "needs_background": "light"
     },
     "output_type": "display_data"
    }
   ],
   "source": [
    "plt.figure(figsize=(10,5))\n",
    "plt.plot(data_2017.Health_Life_Expectency,data_2017.Hapiness_Score,color = 'purple')\n",
    "plt.xlabel('Economy..GDP.per.Capita.')\n",
    "plt.ylabel('Happiness')\n",
    "plt.title('hapiness vs Economy..GDP.per.Capita.')"
   ]
  },
  {
   "cell_type": "markdown",
   "metadata": {},
   "source": [
    "Население в более богатых странах (высокий уровень экономического развития страны), как правило, сообщают о более высокой удовлетворенности жизнью, чем в более бедных странах"
   ]
  }
 ],
 "metadata": {
  "kernelspec": {
   "display_name": "Python 3",
   "language": "python",
   "name": "python3"
  },
  "language_info": {
   "codemirror_mode": {
    "name": "ipython",
    "version": 3
   },
   "file_extension": ".py",
   "mimetype": "text/x-python",
   "name": "python",
   "nbconvert_exporter": "python",
   "pygments_lexer": "ipython3",
   "version": "3.7.6"
  }
 },
 "nbformat": 4,
 "nbformat_minor": 4
}
